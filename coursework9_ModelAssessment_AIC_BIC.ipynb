{
 "cells": [
  {
   "cell_type": "markdown",
   "metadata": {},
   "source": [
    "This report contains, in addition to the code provided by the lecturer, my own code changes\n",
    "and additions, and written answers to answer coursework 9 in Machine Learning and Statistics."
   ]
  },
  {
   "cell_type": "code",
   "execution_count": 1,
   "metadata": {},
   "outputs": [],
   "source": [
    "# Load the libraries needed\n",
    "%matplotlib inline\n",
    "import csv\n",
    "import numpy as np\n",
    "import matplotlib.pyplot as plt\n",
    "import time\n",
    "\n",
    "# Seed random number generator\n",
    "np.random.seed(123)\n",
    "\n",
    "# Helper functions for polynomials\n",
    "def powers( X, n ):\n",
    "    \"\"\" Returns an array of the powers of the elements of X up to the nth power \"\"\"\n",
    "    return np.power(np.expand_dims(X, axis=-1), [np.arange(n)])\n",
    "\n",
    "def polynomial( X, poly_coeff ):\n",
    "    \"\"\" Returns the value of a polynomial at x with given coefficients \"\"\"\n",
    "    deg = np.shape(poly_coeff)[-1]\n",
    "    return np.dot(powers(X, deg), np.transpose(poly_coeff), )\n",
    "\n",
    "def fit_polynomial( X, y, n ):\n",
    "    \"\"\" Returns the coefficients of the n-degree polynomial fit to (X, y) \"\"\"\n",
    "    X_pwrs = powers(X, n+1)\n",
    "    # Do linear least squares fit\n",
    "    coeff, _, _, _ = np.linalg.lstsq(X_pwrs, y, rcond=None)\n",
    "    return coeff\n",
    "\n",
    "def degree( poly_coeff ):\n",
    "    \"\"\" Returns the degree of a polynomial from its coefficients \"\"\"\n",
    "    return len(poly_coeff)-1"
   ]
  },
  {
   "cell_type": "code",
   "execution_count": 2,
   "metadata": {},
   "outputs": [],
   "source": [
    "# RSS, AIC, and BIC scores\n",
    "# You should modify the functions aic_loss and bic_loss to compute\n",
    "# the AIC, and BIC, penalties given a dataset X, y, and learned\n",
    "# polynomial model with coefficients learned_coeff.\n",
    "\n",
    "def rss_loss(X, y, learned_coeff):\n",
    "    \"\"\" Computes the residual sum of squares loss for a given polynomial on \n",
    "    the given data \"\"\"\n",
    "    pred_y = polynomial(X, learned_coeff)\n",
    "    return np.sum(np.square(pred_y - y))\n",
    "    \n",
    "def aic_loss(X, y, learned_coeff):\n",
    "    \"\"\" Computes the Akaike’s Information Criterion for a given polynomial on \n",
    "    the given data \"\"\"\n",
    "    # You will need to modify this function to return the correct result\n",
    "    RSS = rss_loss(X,y,learned_coeff) \n",
    "    aic = (1/len(X))*(RSS+2*len(learned_coeff))\n",
    "    return aic\n",
    "    \n",
    "def bic_loss(X, y, learned_coeff):\n",
    "    \"\"\" Computes the Bayesian Information Criterion for a given polynomial on \n",
    "    the given data \"\"\"\n",
    "    # You will need to modify this function to return the correct result\n",
    "    RSS = rss_loss(X,y,learned_coeff) \n",
    "    bic = (1/len(X))*(RSS+len(learned_coeff)*np.log(len(X)))\n",
    "    return bic"
   ]
  },
  {
   "cell_type": "code",
   "execution_count": 3,
   "metadata": {},
   "outputs": [
    {
     "data": {
      "image/png": "[encoded data removed]",
      "text/plain": [
       "<Figure size 288x288 with 1 Axes>"
      ]
     },
     "metadata": {},
     "output_type": "display_data"
    },
    {
     "name": "stdout",
     "output_type": "stream",
     "text": [
      "Fitted a degree 5 polynomial with RSS loss: 15.34, AIC loss: 1.82, BIC loss: 2.11 to 15 datapoints.\n",
      "[-1.09065806  2.02523857 -0.33298202  0.48379912 -0.02799822  0.00711476]\n"
     ]
    }
   ],
   "source": [
    "# Using AIC/BIC to compare models\n",
    "# You should see how the AIC and BIC scores compare for different\n",
    "# models by changing the model degree (given by the variable n).\n",
    "\n",
    "# Load data\n",
    "X, y = np.load(\"./class9_generated_data.npy\")\n",
    "\n",
    "#Plot the data\n",
    "plt.figure(figsize=(4,4))\n",
    "plt.scatter(X,y)\n",
    "plt.ylim(y.min()-1., y.max()+1.)\n",
    "\n",
    "# Make sequence of x-values for plotting\n",
    "axis_X = np.arange(-4.0, 4.0, 0.2)\n",
    "\n",
    "# Fit a polynomial\n",
    "n = 5\n",
    "learned_coefficients = fit_polynomial( X, y, n )\n",
    "\n",
    "#Plot the learned polynomial\n",
    "poly_y = polynomial(axis_X, learned_coefficients)\n",
    "plt.plot(axis_X, poly_y, )\n",
    "\n",
    "plt.show()\n",
    "\n",
    "num_points = np.shape(X)[0]\n",
    "rss = rss_loss(X, y, learned_coefficients)\n",
    "aic = aic_loss(X, y, learned_coefficients)\n",
    "bic = bic_loss(X, y, learned_coefficients)\n",
    "str_ = \"Fitted a degree {:d} polynomial with \".format(degree(learned_coefficients))\n",
    "str_ += \"RSS loss: {:.2f}, AIC loss: {:.2f}, BIC loss: {:.2f} \".format(rss, aic, bic)\n",
    "print(str_ + \"to {:d} datapoints.\".format(num_points))\n",
    "\n",
    "print(learned_coefficients)"
   ]
  },
  {
   "cell_type": "markdown",
   "metadata": {},
   "source": [
    "# Assignment 1:"
   ]
  },
  {
   "cell_type": "markdown",
   "metadata": {},
   "source": [
    "Complete the functions aic_loss and bic_loss for calculating the AIC and the\n",
    "BIC scores for a learned or trained polynomial model. In your implementation, you can use the\n",
    "provided function to calculate the degree of a given polynomial model. Run the code and record\n",
    "the RSS, AIC, and BIC scores on the given data set. Repeat this for polynomial models of degrees 1, 3,\n",
    "and 5. Report all the scores for polynomial models of different degrees. With the results achieved,\n",
    "comment on which polynomial degree has been used to generate the data set. <br>\n",
    "Answer: <br>"
   ]
  },
  {
   "cell_type": "markdown",
   "metadata": {},
   "source": [
    "The completed functions for AIC and BIC loss can be found in the code above. Report for polynomial models of different degrees: <br>"
   ]
  },
  {
   "cell_type": "markdown",
   "metadata": {},
   "source": [
    " - Degree 1 polynomial (n = 1): Fitted a degree 1 polynomial with RSS loss: 100.73, AIC loss: 6.98, BIC loss: 7.08 to 15 datapoints. <br>"
   ]
  },
  {
   "cell_type": "markdown",
   "metadata": {},
   "source": [
    " - Degree 3 polynomial (n = 3): Fitted a degree 3 polynomial with RSS loss: 15.57, AIC loss: 1.57, BIC loss: 1.76 to 15 datapoints. <br>"
   ]
  },
  {
   "cell_type": "markdown",
   "metadata": {},
   "source": [
    " - Degree 5 polynomial (n = 5): Fitted a degree 5 polynomial with RSS loss: 15.34, AIC loss: 1.82, BIC loss: 2.11 to 15 datapoints. <br>"
   ]
  },
  {
   "cell_type": "markdown",
   "metadata": {},
   "source": [
    "We can see that the polynomial of degree 3 gives the smallest values of BIC and AIC loss, thus degree 3 is the degree with which the polynomial was generated. Tested with n = 2 and n = 4 as well just to be sure that these were not better. <br> "
   ]
  },
  {
   "cell_type": "code",
   "execution_count": 4,
   "metadata": {},
   "outputs": [],
   "source": [
    "# Helper functions for linear models\n",
    "def linear ( X, coefficients ):\n",
    "    return np.dot(X, np.transpose(coefficients), )\n",
    "\n",
    "def fit_linear( X, y, features=None ):\n",
    "    \"\"\" \n",
    "        Returns the coefficients of a linear model fit to X,y.\n",
    "        If features is a list of integers, then fit will ignore\n",
    "        any features whose index is not in the list.\n",
    "        ( Returned coefficients for these features will be set\n",
    "        to 0. )\n",
    "    \"\"\"\n",
    "    if features is not None:\n",
    "        # Make a mask\n",
    "        tot_num_features = np.shape(X)[-1]\n",
    "        mask = np.zeros((1,tot_num_features))\n",
    "        mask[0,features] = 1.\n",
    "        # Zero out all irrellevant features\n",
    "        X = X * mask\n",
    "    \n",
    "    # Do linear least squares fit\n",
    "    coeff, _, _, _ = np.linalg.lstsq(X, y, rcond=None)\n",
    "    return coeff"
   ]
  },
  {
   "cell_type": "code",
   "execution_count": 5,
   "metadata": {},
   "outputs": [
    {
     "name": "stdout",
     "output_type": "stream",
     "text": [
      "Successfully loaded 160 entries.\n",
      "\n",
      "Performing forwards stepwise feature selection using AIC as criteria...\n",
      "Round 1, selected feature 1 with score 0.754\n",
      "Round 2, selected feature 0 with score 0.530\n",
      "Round 3, selected feature 3 with score 0.490\n",
      "Round 4, selected feature 2 with score 0.498\n",
      "Round 5, selected feature 9 with score 0.506\n",
      "Round 6, selected feature 12 with score 0.516\n",
      "Round 7, selected feature 13 with score 0.517\n",
      "Round 8, selected feature 4 with score 0.528\n",
      "Round 9, selected feature 10 with score 0.539\n",
      "Round 10, selected feature 5 with score 0.550\n",
      "Round 11, selected feature 11 with score 0.560\n",
      "Round 12, selected feature 6 with score 0.572\n",
      "Round 13, selected feature 7 with score 0.584\n",
      "Round 14, selected feature 14 with score 0.596\n",
      "Round 15, selected feature 8 with score 0.608\n",
      "Best features were [1, 0, 3] (3 total) with score 0.490\n"
     ]
    }
   ],
   "source": [
    "# AIC and BIC for feature selection\n",
    "# The following is an implementation of forward feature selection.\n",
    "# However, as a criterion it uses the Mean Square Error (MSE) score\n",
    "# ( = RSS / num_examples). This is largely useless as adding more\n",
    "# features will always give a lower MSE score.\n",
    "# You should modify the code below by calculating the AIC penalty for\n",
    "# the learned linear model each iteration and setting the score variable\n",
    "# to this value.\n",
    "\n",
    "# Load data\n",
    "data = []\n",
    "continuous_features = [ 0, 1, 9, 10, 11, 12, 13, 16, 18, 19, 20, 21, 22, 23, 24, 25 ]\n",
    "\n",
    "# Original data is from https://archive.ics.uci.edu/ml/datasets/automobile\n",
    "with open('./automobile.csv', 'r') as csvfile:\n",
    "    csvreader = csv.reader(csvfile, delimiter=',', quotechar='\\\"')\n",
    "    for row in csvreader:\n",
    "        try:\n",
    "            # Get all continuous rows\n",
    "            data.append([float(row[i]) for i in continuous_features])\n",
    "        except:\n",
    "            continue # skip this row since data-processing failed\n",
    "\n",
    "data = np.array(data)\n",
    "y = data[:, 0] # target is first value\n",
    "X = data[:, 1:] # training data is the rest\n",
    "\n",
    "# Normalize the data to zero mean and unit std\n",
    "X = (X - np.mean(X, axis=0, keepdims=True)) / np.std(X, axis=0, keepdims=True)\n",
    "y = (y - np.mean(y)) / np.std(y)\n",
    "\n",
    "print(\"Successfully loaded {:d} entries.\\n\".format(len(X)))\n",
    "    \n",
    "\n",
    "# Forwards stepwise feature selection\n",
    "tot_num_features = np.shape(X)[-1]\n",
    "all_features = range(tot_num_features)\n",
    "curr_features = []\n",
    "\n",
    "best_score = 1e9\n",
    "best_features = None\n",
    "\n",
    "print(\"Performing forwards stepwise feature selection using AIC as criteria...\")\n",
    "# While we have remaining features...\n",
    "while len(curr_features) != tot_num_features:\n",
    "    # Get remaining features \n",
    "    candidate_features = [ f for f in all_features if f not in curr_features ]\n",
    "    \n",
    "    best_score_this_round = 1e9\n",
    "    best_feature_this_round = None\n",
    "    for f in candidate_features:\n",
    "        test_features = curr_features + [f]\n",
    "        learned_coefficients = fit_linear( X, y, test_features )\n",
    "        \n",
    "        y_pred = linear(X, learned_coefficients)\n",
    "        RSS_loss = np.sum(np.square(y_pred - y))\n",
    "        AIC_loss = (1/len(X))*(RSS_loss+(2*(len(test_features)+1)))\n",
    "        score = AIC_loss\n",
    "        \n",
    "        # Remember, lower score is better\n",
    "        if score < best_score_this_round:\n",
    "            best_score_this_round = score\n",
    "            best_feature_this_round = f\n",
    "            \n",
    "        if score < best_score:\n",
    "            best_score = score\n",
    "            best_features = test_features\n",
    "            \n",
    "    # Set current features to best features from round\n",
    "    curr_features = curr_features + [best_feature_this_round]\n",
    "    print(\"Round {}, selected feature {:d} with score {:.3f}\".format(len(curr_features), \n",
    "                                    best_feature_this_round, best_score_this_round ))\n",
    "            \n",
    "print(\"Best features were {} ({:d} total) with score {:.3f}\".format(best_features, \n",
    "                                                len(best_features), best_score))"
   ]
  },
  {
   "cell_type": "markdown",
   "metadata": {},
   "source": [
    "# Assignment 2"
   ]
  },
  {
   "cell_type": "markdown",
   "metadata": {},
   "source": [
    " Modify the provided forward feature selection routine to use the AIC score instead\n",
    "of the RSS as its evaluation criterion. Run your modified code on the Automobile data set to select\n",
    "a best feature subset for the insurance category prediction of a vehicle. <br>"
   ]
  },
  {
   "cell_type": "markdown",
   "metadata": {},
   "source": [
    "Answer: <br>"
   ]
  },
  {
   "cell_type": "markdown",
   "metadata": {},
   "source": [
    "See modified code above. The best feature subet, as the output above suggests, is 1 , 0 og 3, with an AIC score of 0.490."
   ]
  },
  {
   "cell_type": "code",
   "execution_count": 6,
   "metadata": {},
   "outputs": [
    {
     "name": "stdout",
     "output_type": "stream",
     "text": [
      "Successfully loaded 160 entries.\n",
      "\n",
      "Performing backward stepwise feature selection using AIC as criteria...\n",
      "Round 14, selected feature 8 to be removed, with score 0.596\n",
      "Round 13, selected feature 14 to be removed, with score 0.584\n",
      "Round 12, selected feature 2 to be removed, with score 0.571\n",
      "Round 11, selected feature 7 to be removed, with score 0.559\n",
      "Round 10, selected feature 6 to be removed, with score 0.548\n",
      "Round 9, selected feature 11 to be removed, with score 0.538\n",
      "Round 8, selected feature 5 to be removed, with score 0.527\n",
      "Round 7, selected feature 10 to be removed, with score 0.516\n",
      "Round 6, selected feature 4 to be removed, with score 0.505\n",
      "Round 5, selected feature 9 to be removed, with score 0.502\n",
      "Round 4, selected feature 13 to be removed, with score 0.502\n",
      "Round 3, selected feature 12 to be removed, with score 0.490\n",
      "Round 2, selected feature 3 to be removed, with score 0.530\n",
      "Round 1, selected feature 0 to be removed, with score 0.754\n",
      "Round 0, selected feature 1 to be removed, with score 1.012\n",
      "Best features were [0, 1, 3] (3 total) with score 0.490\n"
     ]
    }
   ],
   "source": [
    "# Backwards feature selection\n",
    "# Copy the code above and modify it to implement backwards feature\n",
    "# selection using the AIC criterion as a scoring function.\n",
    "\n",
    "# Load data\n",
    "data = []\n",
    "continuous_features = [ 0, 1, 9, 10, 11, 12, 13, \n",
    "                       16, 18, 19, 20, 21, 22, 23, 24, 25 ]\n",
    "\n",
    "# Original data is from https://archive.ics.uci.edu/ml/datasets/automobile\n",
    "with open('./automobile.csv', 'r') as csvfile:\n",
    "    csvreader = csv.reader(csvfile, delimiter=',', quotechar='\\\"')\n",
    "    for row in csvreader:\n",
    "        try:\n",
    "            # Get all continuous rows\n",
    "            data.append([float(row[i]) for i in continuous_features])\n",
    "        except:\n",
    "            continue # skip this row since data-processing failed\n",
    "\n",
    "data = np.array(data)\n",
    "y = data[:, 0] # target is first value\n",
    "X = data[:, 1:] # training data is the rest\n",
    "\n",
    "# Normalize the data to zero mean and unit std\n",
    "X = (X - np.mean(X, axis=0, keepdims=True)) / np.std(X, axis=0, \n",
    "                                                     keepdims=True)\n",
    "y = (y - np.mean(y)) / np.std(y)\n",
    "\n",
    "print(\"Successfully loaded {:d} entries.\\n\".format(len(X)))\n",
    "    \n",
    "#Backward stepwise feature selection\n",
    "\n",
    "#start out by saying that we start out with all the features\n",
    "tot_num_features = np.shape(X)[-1]\n",
    "all_features = range(tot_num_features)\n",
    "curr_features = list(range(tot_num_features))\n",
    "\n",
    "#calculate the AIC-score for the full model and start out with that\n",
    "#as the best score and model\n",
    "learned_coefficients = fit_linear( X, y, curr_features )\n",
    "y_pred = linear(X, learned_coefficients)\n",
    "RSS_loss = np.sum(np.square(y_pred - y))\n",
    "AIC_score_start = (1/len(X))*(RSS_loss+(2*(len(curr_features)+1)))\n",
    "\n",
    "best_score = AIC_score_start\n",
    "best_features = curr_features\n",
    "\n",
    "print(\"Performing backward stepwise feature selection using AIC as criteria...\")\n",
    "# While we have remaining features...\n",
    "while len(curr_features) > 0:   \n",
    "    #need to keep track of the best score and the feature which\n",
    "    #gave the best result when removed\n",
    "    best_score_this_round = 1e9\n",
    "    worst_feature_this_round = None\n",
    "    \n",
    "    for f in range(len(curr_features)):  \n",
    "        #for each loop remove one of the features\n",
    "        i = curr_features[f]\n",
    "        test_features = curr_features\n",
    "        test_features = list(filter(lambda x:x != i,test_features))\n",
    "        \n",
    "        #test model without selected feature\n",
    "        learned_coefficients = fit_linear( X, y, test_features )\n",
    "        y_pred = linear(X, learned_coefficients)\n",
    "        RSS_loss = np.sum(np.square(y_pred - y))\n",
    "        AIC_score = (1/len(X))*(RSS_loss+(2*(len(test_features)+1)))\n",
    "        \n",
    "        # Remember, lower score is better\n",
    "        if AIC_score < best_score_this_round:\n",
    "            best_score_this_round = AIC_score\n",
    "            worst_feature_this_round = i\n",
    "            \n",
    "        if AIC_score < best_score:\n",
    "            best_score = AIC_score\n",
    "            best_features = test_features\n",
    "\n",
    "    # Set current features to best features from round\n",
    "    #by removing the \"worst\" feature from this round\n",
    "    curr_features = list(filter(lambda x:x != worst_feature_this_round,curr_features))\n",
    "    print(\"Round {}, selected feature {:d} to be removed, with score {:.3f}\"\\\n",
    "          .format(len(curr_features), worst_feature_this_round, best_score_this_round ))\n",
    "            \n",
    "print(\"Best features were {} ({:d} total) with score {:.3f}\".format(best_features, \n",
    "                                                    len(best_features), best_score))"
   ]
  },
  {
   "cell_type": "markdown",
   "metadata": {},
   "source": [
    "# Assignment 3"
   ]
  },
  {
   "cell_type": "markdown",
   "metadata": {},
   "source": [
    "Implement the backward stepwise feature selection routine. Run your backward\n",
    "selection code on the Automobile data set to select a best feature subset for the insurance category\n",
    "prediction of a vehicle. Compare the results of running backwards feature selection to running\n",
    "forwards feature selection. With the results and your justification, comment on whether there is a\n",
    "difference between two feature selection methods in terms of this data set.<br>"
   ]
  },
  {
   "cell_type": "markdown",
   "metadata": {},
   "source": [
    "Answer: <br>"
   ]
  },
  {
   "cell_type": "markdown",
   "metadata": {},
   "source": [
    "See the above code for my implementation of backward feature selection. We see by the output that the backward stepwise feature selections selects the same feature subset as the forward routine. So for this dataset, there is no difference in their conclusion. However, if one looks at the order in which features are added/taken away - there is a difference. Still, the conlusion is the same."
   ]
  }
 ],
 "metadata": {
  "kernelspec": {
   "display_name": "Python 3",
   "language": "python",
   "name": "python3"
  },
  "language_info": {
   "codemirror_mode": {
    "name": "ipython",
    "version": 3
   },
   "file_extension": ".py",
   "mimetype": "text/x-python",
   "name": "python",
   "nbconvert_exporter": "python",
   "pygments_lexer": "ipython3",
   "version": "3.6.5"
  }
 },
 "nbformat": 4,
 "nbformat_minor": 2
}
