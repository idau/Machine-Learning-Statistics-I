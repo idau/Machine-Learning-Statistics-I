{
 "cells": [
  {
   "cell_type": "markdown",
   "metadata": {},
   "source": [
    "Coursework: Evidence for Global Warming?"
   ]
  },
  {
   "cell_type": "markdown",
   "metadata": {},
   "source": [
    "By Ida Johanne Austad"
   ]
  },
  {
   "cell_type": "code",
   "execution_count": 1,
   "metadata": {},
   "outputs": [],
   "source": [
    "# Import the packages we need\n",
    "import math \n",
    "import numpy as np\n",
    "import pandas as pd\n",
    "import datetime as dt\n",
    "import scipy.stats as sp\n",
    "import matplotlib.pyplot as plt\n",
    "from sklearn.gaussian_process import GaussianProcessRegressor\n",
    "from sklearn.gaussian_process.kernels import RBF"
   ]
  },
  {
   "cell_type": "markdown",
   "metadata": {},
   "source": [
    "# Fit a GP regression for the decades 1990 and 2004"
   ]
  },
  {
   "cell_type": "code",
   "execution_count": 2,
   "metadata": {},
   "outputs": [
    {
     "name": "stdout",
     "output_type": "stream",
     "text": [
      "   Unnamed: 0  Day  Month  Decade  Mean.Extent  Var.Extent  Ordinal.Date\n",
      "0           0    1      1    1990    13.966625    0.058241           1.0\n",
      "1           1   15      1    1990    14.597125    0.036833          15.0\n",
      "2           2    1      2    1990    15.198375    0.066743          32.0\n",
      "3           3   15      2    1990    15.468875    0.024467          46.0\n",
      "4           4    1      3    1990    15.613250    0.061991          60.0\n"
     ]
    }
   ],
   "source": [
    "#Importing data for sea ice coverage for 1990 and 2004 \n",
    "training_data = pd.read_csv( \"revised_all_GP_training.csv\" )\n",
    "print(training_data.head())         #looking at the data  "
   ]
  },
  {
   "cell_type": "markdown",
   "metadata": {},
   "source": [
    "Creating our vectors for x (ordinal dates) and y (mean sea ice cover) values, plus variance of y"
   ]
  },
  {
   "cell_type": "code",
   "execution_count": 3,
   "metadata": {},
   "outputs": [],
   "source": [
    "#for 1990\n",
    "bool_1990 = np.any([(training_data['Decade'] == 1990)], axis=0)\n",
    "x_train_1990 = training_data.loc[bool_1990,:]['Ordinal.Date']\n",
    "y_train_1990 = training_data.loc[bool_1990,:]['Mean.Extent']\n",
    "y_var_1990 = training_data.loc[bool_1990,:]['Var.Extent']\n",
    "\n",
    "#for 2004\n",
    "bool_2004 = np.any([(training_data['Decade'] == 2004)], axis=0)\n",
    "x_train_2004 = training_data.loc[bool_2004,:]['Ordinal.Date']\n",
    "y_train_2004 = training_data.loc[bool_2004,:]['Mean.Extent']\n",
    "y_var_2004 = training_data.loc[bool_2004,:]['Var.Extent']"
   ]
  },
  {
   "cell_type": "markdown",
   "metadata": {},
   "source": [
    "Constructing a kernel, setting an intial length and amplitude. Then fit GP regression models for each decade"
   ]
  },
  {
   "cell_type": "code",
   "execution_count": 4,
   "metadata": {},
   "outputs": [],
   "source": [
    "#for 1990 \n",
    "initial_ell90 = (np.amax(x_train_1990) - np.amin(x_train_1990)) / 10  \n",
    "initial_scale90 = np.var( y_train_1990 )                        \n",
    "rbf_kernel90 = initial_scale90 * RBF(length_scale=initial_ell90, \n",
    "    length_scale_bounds=(initial_ell90/20, 5 * initial_ell90))  \n",
    "\n",
    "# Construct the GP object for 1990\n",
    "gp_1990 = GaussianProcessRegressor( kernel=rbf_kernel90, alpha=y_var_1990 )"
   ]
  },
  {
   "cell_type": "code",
   "execution_count": null,
   "metadata": {},
   "outputs": [],
   "source": [
    "x_vec_1990 = x_train_1990[:, np.newaxis] #makes x into a column vector\n",
    "gp_1990.fit( x_vec_1990, y_train_1990 )       "
   ]
  },
  {
   "cell_type": "code",
   "execution_count": 7,
   "metadata": {},
   "outputs": [],
   "source": [
    "#for 2004\n",
    "initial_ell04 = (np.amax(x_train_2004) - np.amin(x_train_2004)) / 10    \n",
    "initial_scale04 = np.var( y_train_2004 )                      \n",
    "rbf_kernel04 = initial_scale04 * RBF(length_scale=initial_ell04, \n",
    "    length_scale_bounds=(initial_ell04/20, 5 * initial_ell04))  \n",
    "\n",
    "# Construct the GP object for 2004\n",
    "gp_2004 = GaussianProcessRegressor( kernel=rbf_kernel04, alpha=y_var_2004 )"
   ]
  },
  {
   "cell_type": "code",
   "execution_count": null,
   "metadata": {},
   "outputs": [],
   "source": [
    "x_vec_2004 = x_train_2004[:, np.newaxis] #makes x into a column vector\n",
    "gp_2004.fit( x_vec_2004, y_train_2004 )       "
   ]
  },
  {
   "cell_type": "markdown",
   "metadata": {},
   "source": [
    "# From each model, generate a large number of random annual traces and estimate the minimum of the sea ice cover over the year."
   ]
  },
  {
   "cell_type": "code",
   "execution_count": 9,
   "metadata": {},
   "outputs": [],
   "source": [
    "#Creating vecor which represents a year and specify number of traces\n",
    "year =range(1,366)                      #length 365\n",
    "x_year = np.array(year)[:, np.newaxis]\n",
    "nSamples = 1000"
   ]
  },
  {
   "cell_type": "code",
   "execution_count": 10,
   "metadata": {
    "collapsed": true
   },
   "outputs": [],
   "source": [
    "#Predict using the Gaussian process regression model\n",
    "y_mean90, y_std90 = gp_1990.predict(x_year, return_std=True) \n",
    "# .sample_y: draw samples from Gaussian process and evaluate at X. \n",
    "#Returns 2D numpy array with 365 rows and 1000 columns\n",
    "y_samples_1990 = gp_1990.sample_y(x_year, nSamples)    \n",
    "\n",
    "y_mean04, y_std04 = gp_2004.predict(x_year, return_std=True)\n",
    "y_samples_2004 = gp_2004.sample_y(x_year, nSamples)"
   ]
  },
  {
   "cell_type": "code",
   "execution_count": 11,
   "metadata": {},
   "outputs": [
    {
     "data": {
      "image/png": "[encoded data removed]",
      "text/plain": [
       "<Figure size 720x360 with 1 Axes>"
      ]
     },
     "metadata": {},
     "output_type": "display_data"
    }
   ],
   "source": [
    "#Get minimums for 1990 traces and plot these by\n",
    "#Creating table to hold min values for each trace\n",
    "#Make transpose of sample table so that we can get min from each row\n",
    "\n",
    "min_temp_1990 = np.empty(0)                 \n",
    "array90 = np.transpose(y_samples_1990)      \n",
    "for row in array90:\n",
    "    min = np.amin(row)\n",
    "    min_temp_1990 = np.append(min_temp_1990, min)\n",
    "\n",
    "# Plot histograms\n",
    "minhist_1990 = plt.figure(figsize=[10,5])\n",
    "plt.hist( min_temp_1990, bins='fd', color='orange', alpha=0.5 )\n",
    "plt.xlabel('Minimum ice coverage ($10^6$ km$^2$)', fontsize=14)\n",
    "plt.ylabel('Frequency', fontsize=14)\n",
    "plt.title('Distribution of minimum ice coverage for the decade 1990', fontsize=18)\n",
    "\n",
    "plt.show()"
   ]
  },
  {
   "cell_type": "code",
   "execution_count": 12,
   "metadata": {},
   "outputs": [
    {
     "data": {
      "image/png": "[encoded data removed]",
      "text/plain": [
       "<Figure size 720x360 with 1 Axes>"
      ]
     },
     "metadata": {},
     "output_type": "display_data"
    }
   ],
   "source": [
    "#Get minimums for 2004 traces and plot these\n",
    "min_temp_2004 = np.empty(0)                 \n",
    "array04 = np.transpose(y_samples_2004)         \n",
    "for row in array04:\n",
    "    min = np.amin(row)\n",
    "    min_temp_2004 = np.append(min_temp_2004, min)\n",
    "\n",
    "# Plot histograms\n",
    "minhist_2004 = plt.figure(figsize=[10,5])\n",
    "plt.hist( min_temp_2004, bins='fd', color='green', alpha=0.5 )\n",
    "plt.xlabel('Minimum ice coverage ($10^6$ km$^2$)', fontsize=14)\n",
    "plt.ylabel('Frequency', fontsize=14)\n",
    "plt.title('Distribution of minimum ice coverage for the decade 2004', fontsize=18)\n",
    "\n",
    "plt.show()"
   ]
  },
  {
   "cell_type": "markdown",
   "metadata": {},
   "source": [
    "# Investigation: Are the minima generated from the 2004 model and the 1990 model compatible or different? And is the minima getting deeper over the years?"
   ]
  },
  {
   "cell_type": "markdown",
   "metadata": {},
   "source": [
    "Start out by plotting the distribution of the minimas for 1990 and 2004 together to investigate if there is any difference. "
   ]
  },
  {
   "cell_type": "code",
   "execution_count": 13,
   "metadata": {},
   "outputs": [
    {
     "data": {
      "image/png": "[encoded data removed]",
      "text/plain": [
       "<Figure size 720x360 with 1 Axes>"
      ]
     },
     "metadata": {},
     "output_type": "display_data"
    }
   ],
   "source": [
    "plt.figure(figsize=[10,5])\n",
    "plt.hist( min_temp_1990, bins='fd', color='orange', alpha=0.5 )\n",
    "plt.hist( min_temp_2004, bins='fd', color='green', alpha=0.5 )\n",
    "plt.xlabel('Minimum ice coverage ($10^6$ km$^2$)', fontsize=14)\n",
    "plt.ylabel('Frequency', fontsize=14)\n",
    "plt.title('Distribution of minimum ice coverage for the decades 1990 and 2004', fontsize=18)\n",
    "plt.legend([\"1990\",\"2004\"], loc='upper left')\n",
    "\n",
    "plt.show()"
   ]
  },
  {
   "cell_type": "markdown",
   "metadata": {},
   "source": [
    "Based on the histogram above we see that the distribution of the minimas for 1990 and 2004 are quite different - they do not even overlap. The distribution of the minima for the 2004 decade is clearly lower than for the 1990 decade. Based on this we could argue that the minimas are not compatible and that the minimum ice coverage seems to be decreasing. "
   ]
  },
  {
   "cell_type": "markdown",
   "metadata": {},
   "source": [
    "We can investigate the issue further by using a different statistical test. One common way to compare means, given that one is dealing with data which is normally distributed, is by performing a T-test. Based on the plots above, we can see the distribution of the data is very similar to a normal one, and we can thus use a T-test. Using the .ttest_ind method from the scipy package returns a t-statistic and a p-value. A large t-statistic would indicate a large difference between the groups and a low p-value indicates a low probability that the result would have occurred by chance. The null hypothesis is that the two means are not different, but if we observe a large t-statistic and a small p-value we can reject the null hypothesis."
   ]
  },
  {
   "cell_type": "code",
   "execution_count": 15,
   "metadata": {},
   "outputs": [
    {
     "name": "stdout",
     "output_type": "stream",
     "text": [
      "145.50008119262574\n",
      "0.0\n"
     ]
    }
   ],
   "source": [
    "#perform t-test to investigate t-statistic and p-value\n",
    "t_stat, p_val = sp.ttest_ind(min_temp_1990,min_temp_2004)\n",
    "print(t_stat)\n",
    "print(p_val)"
   ]
  },
  {
   "cell_type": "markdown",
   "metadata": {},
   "source": [
    "Based on the result from our T-test, which gave us a large t-statistic and a p-value of 0 we have further support for our argument that the minimum ice coverage in the two investigated decades are different, and moreover that the minimum ice coverage has gotten deeper over the years. "
   ]
  },
  {
   "cell_type": "code",
   "execution_count": 16,
   "metadata": {},
   "outputs": [
    {
     "name": "stdout",
     "output_type": "stream",
     "text": [
      "1.3071781542429415\n"
     ]
    }
   ],
   "source": [
    "#to check how different they are we can check the difference between the means\n",
    "mean90 = np.mean(min_temp_1990)\n",
    "mean03 = np.mean(min_temp_2004)\n",
    "print(mean90-mean03)"
   ]
  },
  {
   "cell_type": "markdown",
   "metadata": {},
   "source": [
    "The difference between the mean minimum ice coverages for the decades is ~1.31."
   ]
  },
  {
   "cell_type": "markdown",
   "metadata": {},
   "source": [
    "# Exploring the roles of the parameters A and l in the RBF kernel"
   ]
  },
  {
   "cell_type": "markdown",
   "metadata": {},
   "source": [
    "Due to illness for in the past week I have not had time to investigate the roles of A and l through coding it myself, but based on reading up on GP regression using the RBF Kernel I still have an understanding of these hyperparameters' role. The A will affect the functions' distance from the mean, i.e. the amplitude of the \"wiggles\". The l will affects the length/width of the waves/wiggles of the functions, that is how much different points affect other points on the function in the horizontal direction."
   ]
  },
  {
   "cell_type": "markdown",
   "metadata": {},
   "source": [
    "# Sources:"
   ]
  },
  {
   "cell_type": "markdown",
   "metadata": {},
   "source": [
    "- Slides from our lectures."
   ]
  },
  {
   "cell_type": "markdown",
   "metadata": {},
   "source": [
    "- Video tutorial on Gausian process regression. "
   ]
  },
  {
   "cell_type": "markdown",
   "metadata": {},
   "source": [
    "Link: https://www.youtube.com/watch?v=9hKfsuoFdeQ"
   ]
  },
  {
   "cell_type": "markdown",
   "metadata": {},
   "source": [
    "- The Kernel Cookbook by David Duvenaud. "
   ]
  },
  {
   "cell_type": "markdown",
   "metadata": {},
   "source": [
    "Link: http://www.cs.toronto.edu/~duvenaud/cookbook/index.html"
   ]
  }
 ],
 "metadata": {
  "kernelspec": {
   "display_name": "Python 3",
   "language": "python",
   "name": "python3"
  },
  "language_info": {
   "codemirror_mode": {
    "name": "ipython",
    "version": 3
   },
   "file_extension": ".py",
   "mimetype": "text/x-python",
   "name": "python",
   "nbconvert_exporter": "python",
   "pygments_lexer": "ipython3",
   "version": "3.6.5"
  }
 },
 "nbformat": 4,
 "nbformat_minor": 2
}
